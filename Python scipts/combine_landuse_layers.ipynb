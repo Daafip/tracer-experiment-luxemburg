{
 "cells": [
  {
   "cell_type": "code",
   "execution_count": 7,
   "id": "82ca6587-166c-4966-8167-9073c194c46b",
   "metadata": {},
   "outputs": [],
   "source": [
    "import geopandas as gpd\n",
    "import pandas as pd\n",
    "import glob\n",
    "import os"
   ]
  },
  {
   "cell_type": "code",
   "execution_count": 38,
   "id": "e6b1e23b-56f7-454b-9061-53b45496bcc1",
   "metadata": {},
   "outputs": [],
   "source": [
    "path = os.path.dirname(os.getcwd()) +  \"\\\\GIS\\\\Files\\\\land_use_sub_basin_mechelbach_split_*.gpkg\""
   ]
  },
  {
   "cell_type": "code",
   "execution_count": 39,
   "id": "26aea3e4-16b2-4942-8cb5-4613611179c1",
   "metadata": {},
   "outputs": [],
   "source": [
    "files = glob.glob(path)"
   ]
  },
  {
   "cell_type": "code",
   "execution_count": 40,
   "id": "57eb5437-ca0f-432e-b21a-f80fe7e47950",
   "metadata": {},
   "outputs": [],
   "source": [
    "lst_layers = []\n",
    "for i, file in enumerate(files):\n",
    "    gdf = gpd.read_file(file)\n",
    "    gdf = gdf[[\"Landuse\",'area_ha']]\n",
    "    gdf[\"area_ha\"] = gdf[\"area_ha\"] / gdf[\"area_ha\"].sum() * 100\n",
    "    section_name = file.split(\"_\")[-1].split(\".\")[0]\n",
    "    gdf.rename(columns={\"area_ha\":section_name, \"Landuse\":\"percentage_per_landuse\"},inplace=True)\n",
    "    lst_layers.append(gdf.set_index(\"percentage_per_landuse\").T)"
   ]
  },
  {
   "cell_type": "code",
   "execution_count": 41,
   "id": "8606c41a-69bd-41a2-b591-687904c5a5d8",
   "metadata": {},
   "outputs": [],
   "source": [
    "df = pd.concat(lst_layers).fillna(0)\n",
    "df.index = df.index.astype(int)\n",
    "df.sort_index(inplace=True)\n",
    "df.to_excel(\"combined_landuse_percentages_per_catchment.xlsx\")"
   ]
  },
  {
   "cell_type": "code",
   "execution_count": 42,
   "id": "57bd19a1-ac77-47a9-adfb-43074e4c15d3",
   "metadata": {},
   "outputs": [],
   "source": [
    "lst_layers_ha = []\n",
    "for i, file in enumerate(files):\n",
    "    gdf = gpd.read_file(file)\n",
    "    gdf = gdf[[\"Landuse\",'area_ha']]\n",
    "    # gdf[\"area_ha\"] = gdf[\"area_ha\"] / gdf[\"area_ha\"].sum() * 100\n",
    "    section_name = file.split(\"_\")[-1].split(\".\")[0]\n",
    "    gdf.rename(columns={\"area_ha\":section_name, \"Landuse\":\"ha_per_landuse\"},inplace=True)\n",
    "    lst_layers_ha.append(gdf.set_index(\"ha_per_landuse\").T)"
   ]
  },
  {
   "cell_type": "code",
   "execution_count": 43,
   "id": "8eaa02a9-3f91-4f87-8b3c-a0d060d6dfe8",
   "metadata": {},
   "outputs": [
    {
     "data": {
      "text/plain": [
       "1070.0819269455537"
      ]
     },
     "execution_count": 43,
     "metadata": {},
     "output_type": "execute_result"
    }
   ],
   "source": [
    "df_ha = pd.concat(lst_layers_ha).fillna(0)\n",
    "df_ha.sum(axis=1).sum()"
   ]
  },
  {
   "cell_type": "code",
   "execution_count": 44,
   "id": "9c947e92-0120-4d1c-965c-7d4de08082d3",
   "metadata": {},
   "outputs": [],
   "source": [
    "df_ha['total_area'] = df_ha.sum(axis=1)\n",
    "df_ha.index = df_ha.index.astype(int)\n",
    "df_ha.sort_index(inplace=True)"
   ]
  },
  {
   "cell_type": "code",
   "execution_count": 45,
   "id": "f97f59fe-72d1-45fa-b591-e1b9d31f1749",
   "metadata": {},
   "outputs": [],
   "source": [
    "subbasin_file = os.path.dirname(os.getcwd()) + \"\\\\GIS\\\\Files\\\\sub_basins_mechelbach_dissolved2.gpkg\""
   ]
  },
  {
   "cell_type": "code",
   "execution_count": 46,
   "id": "d4bbacfa-ee20-400f-9b09-48a91d7139ea",
   "metadata": {},
   "outputs": [],
   "source": [
    "gdf = gpd.read_file(subbasin_file)\n",
    "df_area = gdf[['section_number','area_ha']].set_index('section_number')\n",
    "df_area.sort_index(inplace=True)"
   ]
  },
  {
   "cell_type": "code",
   "execution_count": 47,
   "id": "cd3ab050-4de4-41df-a058-3f1c9a7832ab",
   "metadata": {},
   "outputs": [],
   "source": [
    "df_area.to_excel(\"area_per_catchment.xlsx\")"
   ]
  }
 ],
 "metadata": {
  "kernelspec": {
   "display_name": "Python 3 (ipykernel)",
   "language": "python",
   "name": "python3"
  },
  "language_info": {
   "codemirror_mode": {
    "name": "ipython",
    "version": 3
   },
   "file_extension": ".py",
   "mimetype": "text/x-python",
   "name": "python",
   "nbconvert_exporter": "python",
   "pygments_lexer": "ipython3",
   "version": "3.11.3"
  }
 },
 "nbformat": 4,
 "nbformat_minor": 5
}
